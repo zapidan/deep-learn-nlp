{
 "cells": [
  {
   "cell_type": "markdown",
   "metadata": {},
   "source": [
    "## Import and Clean DataSet"
   ]
  },
  {
   "cell_type": "code",
   "execution_count": null,
   "metadata": {},
   "outputs": [],
   "source": [
    "import pandas as pd\n",
    "df = pd.read_csv('https://alexip-ml.s3.amazonaws.com/stackexchange_812k.csv.gz', compression='gzip')"
   ]
  },
  {
   "cell_type": "code",
   "execution_count": null,
   "metadata": {
    "scrolled": true
   },
   "outputs": [],
   "source": [
    "df.info()"
   ]
  },
  {
   "cell_type": "code",
   "execution_count": null,
   "metadata": {},
   "outputs": [],
   "source": [
    "df.category.value_counts()"
   ]
  },
  {
   "cell_type": "markdown",
   "metadata": {},
   "source": [
    "### Clean Unwanted Text Patterns"
   ]
  },
  {
   "cell_type": "code",
   "execution_count": null,
   "metadata": {},
   "outputs": [],
   "source": [
    "import re\n",
    " \n",
    "# html tags\n",
    "df['text'] = df.text.apply(lambda t : re.sub(\"<[^>]*>\",' ', t))\n",
    "# line returns\n",
    "df['text'] = df.text.apply(lambda t : re.sub(\"[\\r\\n]+\",' ', t))\n",
    "# urls\n",
    "df['text'] = df.text.apply(lambda t : re.sub(\"http\\S+\",' ', t))\n",
    "# mentions\n",
    "df['text'] = df.text.apply(lambda t : re.sub(\"@\\S+\",' ', t))\n",
    "# latex\n",
    "df['text'] = df.text.apply(lambda t : re.sub(\"\\$[^>]*\\$\",' ', t))\n",
    "# digits\n",
    "df['text'] = df.text.apply(lambda t : re.sub(\"\\d+\",' ', t))\n",
    "# rm some of the punctuation but keep ,.!? and -\n",
    "punctuation = '\"#$%&()*+/:;<=>@[\\\\]^_`{|}~”“'\n",
    "pattern = r\"[{}]\".format(punctuation)\n",
    "df['text'] = df.text.apply(lambda t : re.sub(pattern,' ', t))\n",
    "# multiple spaces\n",
    "df['text'] = df.text.apply(lambda t : re.sub(\"\\s\\s+\",' ', t))\n",
    "# trailing spaces\n",
    "df['text'] = df.text.apply(lambda t : t.strip())"
   ]
  },
  {
   "cell_type": "markdown",
   "metadata": {},
   "source": [
    "### Tokenize Datasets"
   ]
  },
  {
   "cell_type": "code",
   "execution_count": null,
   "metadata": {},
   "outputs": [],
   "source": [
    "from nltk.tokenize import WordPunctTokenizer\n",
    "\n",
    "tokenizer = WordPunctTokenizer()\n",
    "df['tokens'] = df.text.apply(lambda t : tokenizer.tokenize(t.lower()))\n",
    "\n",
    "# Add number of tokens\n",
    "df['n_tokens'] = df.tokens.apply(len)\n",
    "\n",
    "# Remove texts that are too long or too short\n",
    "cleanedTokenizedData = df[(df.n_tokens > 4) & (df.n_tokens < 5000)]\n",
    "cleanedTokenizedData.head()"
   ]
  },
  {
   "cell_type": "markdown",
   "metadata": {},
   "source": [
    "### Prepare Testing and Training DataSets"
   ]
  },
  {
   "cell_type": "code",
   "execution_count": null,
   "metadata": {},
   "outputs": [],
   "source": [
    "testingText = cleanedTokenizedData[cleanedTokenizedData.category == 'title'].tokens"
   ]
  },
  {
   "cell_type": "code",
   "execution_count": null,
   "metadata": {},
   "outputs": [],
   "source": [
    "trainingText = cleanedTokenizedData[(cleanedTokenizedData.category == 'post') | (cleanedTokenizedData.category == 'comment')].tokens"
   ]
  },
  {
   "cell_type": "markdown",
   "metadata": {},
   "source": [
    "### Generate Ngrams"
   ]
  },
  {
   "cell_type": "code",
   "execution_count": null,
   "metadata": {
    "scrolled": false
   },
   "outputs": [],
   "source": [
    "from nltk.util import ngrams, trigrams\n",
    "\n",
    "\n",
    "n = 3 # Trigrams\n",
    "\n",
    "exampleNgrams = ngrams(trainingText.iloc[0], n, pad_left = True, pad_right = True, left_pad_symbol = \"<s>\", right_pad_symbol=\"</s>\")\n",
    "exampleTrigrams = trigrams(trainingText.iloc[0], pad_left = True, pad_right = True, left_pad_symbol = \"<s>\", right_pad_symbol=\"</s>\")\n",
    "\n",
    "paddedNGrams = ngrams(trainingText, n, pad_left = True, pad_right = True, left_pad_symbol = \"<s>\", right_pad_symbol=\"</s>\")\n",
    "\n",
    "# list(paddedNGrams)\n",
    "\n",
    "# list(exampleTrigrams)\n"
   ]
  },
  {
   "cell_type": "markdown",
   "metadata": {},
   "source": [
    "### Generate Prefix/Frequency Matrix"
   ]
  },
  {
   "cell_type": "code",
   "execution_count": null,
   "metadata": {},
   "outputs": [],
   "source": [
    "from collections import defaultdict, Counter\n",
    "\n",
    "counts = defaultdict(Counter)\n",
    "model = defaultdict(lambda: defaultdict(lambda: 0))\n",
    "# list(exampleTrigrams)\n",
    "for w1, w2, w3 in paddedNGrams:\n",
    "   model[(w1, w2)][w3] += 1 \n"
   ]
  },
  {
   "cell_type": "code",
   "execution_count": null,
   "metadata": {},
   "outputs": [],
   "source": [
    "dict(model)"
   ]
  },
  {
   "cell_type": "code",
   "execution_count": null,
   "metadata": {},
   "outputs": [],
   "source": [
    "# probabilities\n",
    "for w1_w2 in model:\n",
    "    total_count = float(sum(model[w1_w2].values()))\n",
    "    for w3 in model[w1_w2]:\n",
    "        model[w1_w2][w3] /= total_count"
   ]
  },
  {
   "cell_type": "code",
   "execution_count": null,
   "metadata": {},
   "outputs": [],
   "source": [
    "dict(model[\"when\", \"fitting\"])"
   ]
  },
  {
   "cell_type": "code",
   "execution_count": null,
   "metadata": {},
   "outputs": [],
   "source": []
  }
 ],
 "metadata": {
  "kernelspec": {
   "display_name": "Python 3",
   "language": "python",
   "name": "python3"
  },
  "language_info": {
   "codemirror_mode": {
    "name": "ipython",
    "version": 3
   },
   "file_extension": ".py",
   "mimetype": "text/x-python",
   "name": "python",
   "nbconvert_exporter": "python",
   "pygments_lexer": "ipython3",
   "version": "3.8.1"
  }
 },
 "nbformat": 4,
 "nbformat_minor": 4
}
